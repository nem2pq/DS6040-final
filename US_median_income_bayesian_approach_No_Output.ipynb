{
  "cells": [
    {
      "cell_type": "markdown",
      "source": [
        "#Predicting Median Income in the United States by County using a Bayesian Approach"
      ],
      "metadata": {
        "id": "4OOawk-KFXTV"
      }
    },
    {
      "cell_type": "code",
      "execution_count": null,
      "metadata": {
        "id": "HvbpCNRs6Gcx"
      },
      "outputs": [],
      "source": [
        "# Imports\n",
        "%matplotlib inline\n",
        "import arviz as az\n",
        "import matplotlib.pyplot as plt\n",
        "import numpy as np\n",
        "import pymc as pm\n",
        "from scipy import stats\n",
        "from scipy.special import erf\n",
        "import pandas as pd\n",
        "import seaborn as sns\n",
        "az.style.use('arviz-darkgrid')\n",
        "plt.rcParams['figure.dpi'] = 300\n",
        "import warnings\n",
        "warnings.filterwarnings('ignore')\n",
        "from IPython.display import set_matplotlib_formats\n",
        "set_matplotlib_formats('pdf', 'svg')\n",
        "az.style.use('arviz-darkgrid')\n",
        "random_seed = 5192024"
      ]
    },
    {
      "cell_type": "code",
      "execution_count": null,
      "metadata": {
        "id": "RFAV4VWr6AMY"
      },
      "outputs": [],
      "source": [
        "df = pd.read_csv('QOL(County Level).csv')\n",
        "df"
      ]
    },
    {
      "cell_type": "code",
      "execution_count": null,
      "metadata": {
        "id": "TgptWwUE6YOa"
      },
      "outputs": [],
      "source": [
        "df = df.drop(['Overall Rank', 'ParkScore2023 Rank', '%CvgCityPark'], axis=1)"
      ]
    },
    {
      "cell_type": "code",
      "execution_count": null,
      "metadata": {
        "id": "i7cz2qmC93WY"
      },
      "outputs": [],
      "source": [
        "df.dtypes\n",
        "cols_comma = ['2022 Population']\n",
        "cols_na_mean = ['WaterQualityVPV', 'Stu:Tea Rank', 'Unemployment']\n",
        "perc = ['Unemployment','2020 PopulrMajor%','%CvgStatePark', 'AQI%Good', 'AVG C2I','1p0c','1p1c','1p2c','1p3c','1p4c','2p0c','2p1c','2p2c','2p3c','2p4c']\n",
        "com_dollar = ['Cost of Living', '2022 Median Income']"
      ]
    },
    {
      "cell_type": "code",
      "execution_count": null,
      "metadata": {
        "id": "NYuSbmfJ-Lmh"
      },
      "outputs": [],
      "source": [
        "# Function to remove commas and convert to int\n",
        "def remove_commas_and_convert_to_int(value):\n",
        "    try:\n",
        "        return int(value.replace(',', ''))\n",
        "    except ValueError:\n",
        "        # Handle cases where conversion is not possible\n",
        "        return value\n",
        "\n",
        "# Apply the function to the specified column\n",
        "df['2022 Population'] = df['2022 Population'].apply(remove_commas_and_convert_to_int)\n",
        "\n",
        "\n",
        "# percentages\n",
        "for x in perc:\n",
        "  df[x] = df[x].str.replace('%', '').astype(float)\n",
        "\n",
        "# dollar sign and comma\n",
        "def clean_and_convert_to_int(value):\n",
        "    try:\n",
        "        # Remove commas and dollar signs, then convert to int\n",
        "        return int(value.replace(',', '').replace('$', ''))\n",
        "    except ValueError:\n",
        "        # Handle cases where conversion is not possible\n",
        "        return value\n",
        "\n",
        "# Apply the function to the specified column\n",
        "for x in com_dollar:\n",
        "  df[x] = df[x].replace('[\\$,]', '', regex=True).astype(float)\n",
        "\n",
        "\n",
        "# 2016 crime rate (fraction?)\n",
        "\n",
        "def convert_fraction_to_float(fraction_str):\n",
        "    if '/' in fraction_str:\n",
        "        numerator, denominator = map(int, fraction_str.split('/'))\n",
        "        return numerator / denominator\n",
        "    else:\n",
        "        # Handle the case when the input is a single number (e.g., '0')\n",
        "        return float(fraction_str)\n",
        "\n",
        "# Apply the function to the specified column\n",
        "df['2016 Crime Rate'] = df['2016 Crime Rate'].apply(convert_fraction_to_float)\n",
        "# Print the updated DataFrame\n",
        "# Calculate the mean of non-NaN values in the column\n",
        "for x in cols_na_mean:\n",
        "  df[x] = df[x].replace(-1, df[x].mean())\n",
        "\n",
        "df['%CvgStatePark'] = df['%CvgStatePark'].replace(-100, 0)\n",
        "df"
      ]
    },
    {
      "cell_type": "code",
      "execution_count": null,
      "metadata": {
        "id": "WKalXX4FKqFh"
      },
      "outputs": [],
      "source": [
        "df.hist(figsize=(15, 10))"
      ]
    },
    {
      "cell_type": "markdown",
      "metadata": {
        "id": "h9Ukh8dtKqFi"
      },
      "source": [
        "## Addressing Categorical Data"
      ]
    },
    {
      "cell_type": "code",
      "execution_count": null,
      "metadata": {
        "id": "aTaylk4TKqFk"
      },
      "outputs": [],
      "source": [
        "categorical_columns = ['countyhelper', 'LSTATE', 'NMCNTY', 'FIPS', 'LZIP',\n",
        "                      'ULOCALE', '2020PopulrVoteParty']\n",
        "for x in categorical_columns:\n",
        "    df[x] = df[x].astype('category')"
      ]
    },
    {
      "cell_type": "code",
      "execution_count": null,
      "metadata": {
        "id": "LcnlFvE5KqFk"
      },
      "outputs": [],
      "source": [
        "df.dtypes"
      ]
    },
    {
      "cell_type": "code",
      "execution_count": null,
      "metadata": {
        "id": "eonaHtizKqFl"
      },
      "outputs": [],
      "source": [
        "df_select = df[['countyhelper', 'LSTATE', 'ULOCALE',\n",
        "       '2022 Population', '2016 Crime Rate', 'Unemployment',\n",
        "       '2020PopulrVoteParty', '2020 PopulrMajor%', 'AQI%Good',\n",
        "       'WaterQualityVPV', 'NtnlPrkCnt', '%CvgStatePark', 'Cost of Living',\n",
        "       '2022 Median Income', 'Stu:Tea Rank',\n",
        "       'Diversity Rank (Race)', 'Diversity Rank (Gender)']]"
      ]
    },
    {
      "cell_type": "markdown",
      "source": [
        "##Numerical EDA"
      ],
      "metadata": {
        "id": "SET9VhaM8_1J"
      }
    },
    {
      "cell_type": "code",
      "source": [
        "df_eda_num = df_select[['2022 Population', '2016 Crime Rate', 'Unemployment',\n",
        "       '2020 PopulrMajor%', 'AQI%Good',\n",
        "       'WaterQualityVPV', 'NtnlPrkCnt', '%CvgStatePark', 'Cost of Living',\n",
        "       'Stu:Tea Rank', 'Diversity Rank (Race)', 'Diversity Rank (Gender)',\n",
        "        '2022 Median Income']]"
      ],
      "metadata": {
        "id": "lIB6kdAl8QYB"
      },
      "execution_count": null,
      "outputs": []
    },
    {
      "cell_type": "code",
      "source": [
        "df_eda_num_reduced = df_eda_num.iloc[0:1000,:]"
      ],
      "metadata": {
        "id": "Z0DroWyn8tab"
      },
      "execution_count": null,
      "outputs": []
    },
    {
      "cell_type": "code",
      "source": [
        "pairplot = sns.pairplot(df_eda_num_reduced)\n",
        "pairplot"
      ],
      "metadata": {
        "id": "TYm9aSfi86OW"
      },
      "execution_count": null,
      "outputs": []
    },
    {
      "cell_type": "code",
      "source": [
        "pairplot.savefig('Income_pairplot')"
      ],
      "metadata": {
        "id": "TivaUWoOvIpQ"
      },
      "execution_count": null,
      "outputs": []
    },
    {
      "cell_type": "markdown",
      "source": [
        "##Categorical EDA"
      ],
      "metadata": {
        "id": "GxRHy95c9Cxs"
      }
    },
    {
      "cell_type": "code",
      "source": [
        "ax = df_select['2020PopulrVoteParty'].value_counts().plot(kind='bar',\n",
        "                                    figsize=(5,4),\n",
        "                                    title=\"County Count By Popular Party\")\n",
        "ax.set_xlabel(\"Political Party\")\n",
        "ax.set_ylabel(\"Count\")"
      ],
      "metadata": {
        "id": "jGiX3riF8zp2"
      },
      "execution_count": null,
      "outputs": []
    },
    {
      "cell_type": "code",
      "source": [
        "df_pol = df.groupby('2020PopulrVoteParty').agg({'2022 Median Income': 'mean'}).reset_index()"
      ],
      "metadata": {
        "id": "ieeTKu3JLK8J"
      },
      "execution_count": null,
      "outputs": []
    },
    {
      "cell_type": "code",
      "source": [
        "df_pol.plot(x=\"2020PopulrVoteParty\", y=\"2022 Median Income\", kind=\"bar\")"
      ],
      "metadata": {
        "id": "N44SqBQRLRDB"
      },
      "execution_count": null,
      "outputs": []
    },
    {
      "cell_type": "code",
      "source": [
        "df_plot = df_select.groupby(['ULOCALE', 'LSTATE']).size().reset_index().pivot(columns='ULOCALE', index='LSTATE', values=0)"
      ],
      "metadata": {
        "id": "Io-_ensc_PKn"
      },
      "execution_count": null,
      "outputs": []
    },
    {
      "cell_type": "code",
      "source": [
        "df_plot.plot(kind='bar', stacked=True, figsize=(18,7), xlabel = 'State', ylabel='County Count')"
      ],
      "metadata": {
        "id": "3lBTFLxPABW3"
      },
      "execution_count": null,
      "outputs": []
    },
    {
      "cell_type": "code",
      "source": [
        "df_descr = df.groupby(['ULOCALE']).agg({'2022 Median Income': 'mean'}).reset_index()"
      ],
      "metadata": {
        "id": "uVGNDy6_K5qK"
      },
      "execution_count": null,
      "outputs": []
    },
    {
      "cell_type": "code",
      "source": [
        "df_descr.plot(x=\"ULOCALE\", y=\"2022 Median Income\", kind=\"bar\")"
      ],
      "metadata": {
        "id": "sHnbFJsvK_UJ"
      },
      "execution_count": null,
      "outputs": []
    },
    {
      "cell_type": "code",
      "source": [
        "df_state = df.groupby('LSTATE').agg({'2022 Median Income': 'mean'}).reset_index()"
      ],
      "metadata": {
        "id": "PK_iQ-wuJFqx"
      },
      "execution_count": null,
      "outputs": []
    },
    {
      "cell_type": "code",
      "source": [
        "df_state.plot(x=\"LSTATE\", y=\"2022 Median Income\", kind=\"bar\", figsize=(12,6))"
      ],
      "metadata": {
        "id": "r6okrqImKTTp"
      },
      "execution_count": null,
      "outputs": []
    },
    {
      "cell_type": "markdown",
      "source": [
        "##Further Data Processing: Categorical Variables"
      ],
      "metadata": {
        "id": "1TiRbl06-MXs"
      }
    },
    {
      "cell_type": "code",
      "execution_count": null,
      "metadata": {
        "id": "BvA-M4qMKqFl"
      },
      "outputs": [],
      "source": [
        "df_select = pd.get_dummies(df_select, drop_first = False,\n",
        "                              columns = ['LSTATE', 'ULOCALE'], dtype = float)"
      ]
    },
    {
      "cell_type": "code",
      "execution_count": null,
      "metadata": {
        "id": "v4D5gcl5KqFl"
      },
      "outputs": [],
      "source": [
        "df_select['2020PopulrVoteParty'] = pd.Categorical(df_select['2020PopulrVoteParty']).codes"
      ]
    },
    {
      "cell_type": "code",
      "execution_count": null,
      "metadata": {
        "id": "nG2dpSNzKqFl"
      },
      "outputs": [],
      "source": [
        "df_select = df_select.set_index('countyhelper')"
      ]
    },
    {
      "cell_type": "code",
      "execution_count": null,
      "metadata": {
        "id": "ZrkKTmdQKqFl"
      },
      "outputs": [],
      "source": [
        "df_select.head()"
      ]
    },
    {
      "cell_type": "code",
      "execution_count": null,
      "metadata": {
        "id": "r9g9HIerKqFm"
      },
      "outputs": [],
      "source": [
        "df_select.columns"
      ]
    },
    {
      "cell_type": "markdown",
      "source": [
        "##Splitting Data into Test and Train Sets"
      ],
      "metadata": {
        "id": "UDqGwtgMAu-j"
      }
    },
    {
      "cell_type": "code",
      "execution_count": null,
      "metadata": {
        "id": "BDBVKtY6uenf"
      },
      "outputs": [],
      "source": [
        "from sklearn.model_selection import train_test_split\n",
        "train, test = train_test_split(df_select, test_size=0.2, random_state=2023)\n",
        "train"
      ]
    },
    {
      "cell_type": "code",
      "execution_count": null,
      "metadata": {
        "id": "BAtFMI3Quijx"
      },
      "outputs": [],
      "source": [
        "test"
      ]
    },
    {
      "cell_type": "markdown",
      "source": [
        "##Log Transformations"
      ],
      "metadata": {
        "id": "sF8q3tuwAnoW"
      }
    },
    {
      "cell_type": "code",
      "execution_count": null,
      "metadata": {
        "id": "TiXhU6rquvUQ"
      },
      "outputs": [],
      "source": [
        "median_income_train_log = np.log(train['2022 Median Income'])\n",
        "median_income_test_log = np.log(test['2022 Median Income'])\n",
        "train['Cost of Living Log'] = np.log(train['Cost of Living'])\n",
        "test['Cost of Living Log'] = np.log(test['Cost of Living'])\n",
        "test"
      ]
    },
    {
      "cell_type": "code",
      "execution_count": null,
      "metadata": {
        "id": "KYy94biUuz9t"
      },
      "outputs": [],
      "source": [
        "train.drop(['2022 Median Income', 'Cost of Living'], axis=1, inplace = True)\n",
        "test.drop(['2022 Median Income', 'Cost of Living'], axis=1, inplace = True)"
      ]
    },
    {
      "cell_type": "markdown",
      "source": [
        "##Further Data Processing: Scaling Numerical Variables\n",
        "\n",
        "##Train"
      ],
      "metadata": {
        "id": "PERKgUNqA4yS"
      }
    },
    {
      "cell_type": "code",
      "execution_count": null,
      "metadata": {
        "id": "mXTl1EtaszvX"
      },
      "outputs": [],
      "source": [
        "numeric_var = ['2022 Population', '2016 Crime Rate', 'Unemployment', '2020 PopulrMajor%', 'AQI%Good',\n",
        "       'WaterQualityVPV', 'NtnlPrkCnt', '%CvgStatePark', 'Cost of Living Log',\n",
        "       'Stu:Tea Rank', 'Diversity Rank (Race)','Diversity Rank (Gender)']\n",
        "scaler = StandardScaler()\n",
        "X_scaled_train = scaler.fit_transform(train[numeric_var])\n",
        "stats.describe(X_scaled_train)"
      ]
    },
    {
      "cell_type": "code",
      "execution_count": null,
      "metadata": {
        "id": "hJYIWBHtsz2R"
      },
      "outputs": [],
      "source": [
        "categorical_var = list(set(train.columns) - set(numeric_var))\n",
        "X_income_train = np.hstack((X_scaled_train, train[categorical_var].to_numpy()))"
      ]
    },
    {
      "cell_type": "code",
      "execution_count": null,
      "metadata": {
        "id": "x7z9V8_Dw0jo"
      },
      "outputs": [],
      "source": [
        "X_income_train.shape"
      ]
    },
    {
      "cell_type": "markdown",
      "metadata": {
        "id": "lqmcd7cjvttV"
      },
      "source": [
        "## Test"
      ]
    },
    {
      "cell_type": "code",
      "execution_count": null,
      "metadata": {
        "id": "L2pDBCbmKqFm"
      },
      "outputs": [],
      "source": [
        "numeric_var = ['2022 Population', '2016 Crime Rate', 'Unemployment',\n",
        "       '2020 PopulrMajor%', 'AQI%Good', 'WaterQualityVPV', 'NtnlPrkCnt',\n",
        "       '%CvgStatePark', 'Cost of Living Log', 'Stu:Tea Rank', 'Diversity Rank (Race)',\n",
        "       'Diversity Rank (Gender)']\n",
        "scaler = StandardScaler()\n",
        "X_scaled_test = scaler.fit_transform(test[numeric_var])\n",
        "stats.describe(X_scaled_test)"
      ]
    },
    {
      "cell_type": "code",
      "execution_count": null,
      "metadata": {
        "id": "6omEPUU4v1Oo"
      },
      "outputs": [],
      "source": [
        "categorical_var = test.iloc[:,11:75].columns\n",
        "X_income_test = np.hstack((X_scaled_test, test[categorical_var].to_numpy()))"
      ]
    },
    {
      "cell_type": "code",
      "execution_count": null,
      "metadata": {
        "id": "GTFDw7q4v4DZ"
      },
      "outputs": [],
      "source": [
        "X_income_test.shape"
      ]
    },
    {
      "cell_type": "markdown",
      "metadata": {
        "id": "IhAkoLmTKqFm"
      },
      "source": [
        "## Model Building:\n",
        "\n",
        "##Full Model"
      ]
    },
    {
      "cell_type": "code",
      "execution_count": null,
      "metadata": {
        "id": "xrF1LbNfNarH"
      },
      "outputs": [],
      "source": [
        "# build the linear model\n",
        "\n",
        "median_income_train_log_mean = median_income_train_log.mean()\n",
        "k = X_income_train.shape[1]\n",
        "\n",
        "with pm.Model() as income_lin_model:\n",
        "\n",
        "    #Data\n",
        "    X = pm.MutableData(\"X\", X_income_train) # training data\n",
        "    y = pm.MutableData(\"y\", median_income_train_log)\n",
        "\n",
        "    #Regression model parameters\n",
        "    α = pm.Normal('α', mu = median_income_train_log_mean, sigma = 17000) # uninformed prior\n",
        "    β = pm.MvNormal('β', mu=np.zeros(k), cov= np.eye(k), shape=k, dims ='Predictors') # informed priors\n",
        "\n",
        "    #Likelihood parameters\n",
        "    nu = pm.Exponential('nu', 1/29.0)+ 1 # uninformed prior\n",
        "    σ = pm.HalfStudentT('σ',2,8)\n",
        "    μ = α + pm.math.dot(X,β)\n",
        "    log_income = pm.StudentT('log_income', nu=nu, mu=μ, sigma=σ, observed=y)\n",
        "\n",
        "g1 = pm.model_to_graphviz(income_lin_model)\n",
        "g1"
      ]
    },
    {
      "cell_type": "code",
      "execution_count": null,
      "metadata": {
        "id": "7uo93c_b2tPD"
      },
      "outputs": [],
      "source": [
        "with income_lin_model:\n",
        "    trace= pm.sample(random_seed = random_seed, return_inferencedata=False, step = pm.NUTS(target_accept = 0.9))\n",
        "    income_lin_trace = pm.to_inference_data(trace=trace, log_likelihood = True)"
      ]
    },
    {
      "cell_type": "code",
      "execution_count": null,
      "metadata": {
        "id": "Obd5H1XL2Wul"
      },
      "outputs": [],
      "source": [
        "az.plot_trace(income_lin_trace, kind = 'rank_bars')"
      ]
    },
    {
      "cell_type": "code",
      "execution_count": null,
      "metadata": {
        "id": "ENnhJAoJ9xZz"
      },
      "outputs": [],
      "source": [
        "az.summary(income_lin_trace)"
      ]
    },
    {
      "cell_type": "code",
      "source": [
        "az.plot_posterior(income_lin_trace, ref_val = 0, color=\"Blue\")"
      ],
      "metadata": {
        "id": "sn055H7YxIul"
      },
      "execution_count": null,
      "outputs": []
    },
    {
      "cell_type": "code",
      "execution_count": null,
      "metadata": {
        "id": "fdq0wLmo-UdO"
      },
      "outputs": [],
      "source": [
        "az.plot_forest(income_lin_trace, var_names = ['β'] )"
      ]
    },
    {
      "cell_type": "code",
      "execution_count": null,
      "metadata": {
        "id": "tInVMbzSALvk"
      },
      "outputs": [],
      "source": [
        "income_pp = pm.sample_posterior_predictive(income_lin_trace,\n",
        "                                          model = income_lin_model, random_seed = random_seed)"
      ]
    },
    {
      "cell_type": "code",
      "execution_count": null,
      "metadata": {
        "id": "MzCex2xeAbGv"
      },
      "outputs": [],
      "source": [
        "az.plot_bpv(income_pp)"
      ]
    },
    {
      "cell_type": "code",
      "source": [
        "az.plot_ppc(income_pp)"
      ],
      "metadata": {
        "id": "ViGc7KjgzaEw"
      },
      "execution_count": null,
      "outputs": []
    },
    {
      "cell_type": "code",
      "execution_count": null,
      "metadata": {
        "id": "bxyT4bnXZnkj"
      },
      "outputs": [],
      "source": [
        "# Fix to test data\n",
        "with income_lin_model:\n",
        "  pm.set_data({'X':X_income_test, 'y': median_income_test_log})\n",
        "  income_lin_test_pp = pm.sample_posterior_predictive(\n",
        "      income_lin_trace,\n",
        "      var_names = ['log_income'],\n",
        "      return_inferencedata=True,\n",
        "      predictions=True,\n",
        "      extend_inferencedata=True,\n",
        "      random_seed=random_seed\n",
        "  )"
      ]
    },
    {
      "cell_type": "code",
      "execution_count": null,
      "metadata": {
        "id": "UlnviciwZnkm"
      },
      "outputs": [],
      "source": [
        "income_lin_test_pp"
      ]
    },
    {
      "cell_type": "code",
      "source": [
        "_, ax = plt.subplots(figsize=(8, 4))\n",
        "\n",
        "pred_mean = income_lin_test_pp.predictions[\"log_income\"].mean(dim=[\"draw\", \"chain\"])\n",
        "ax.scatter(X_income_test[0:300,8],pred_mean[0:300], label = 'Predictions')\n",
        "ax.scatter(X_income_test[0:300,8], median_income_test_log[0:300], label = 'Test Set')\n",
        "ax.vlines(\n",
        "    X_income_test[0:300,8],\n",
        "    *az.hdi(income_lin_test_pp.predictions)[\"log_income\"][0:300].transpose(\"hdi\", ...),\n",
        "    alpha=0.3,\n",
        ")\n",
        "ax.set_ylabel('Log of Median Income')\n",
        "ax.set_xlabel('Z-scaled Log of Cost of Living')\n",
        "ax.set_title('Full Model Predictions and Test Set Values')\n",
        "ax.legend(loc='upper right')"
      ],
      "metadata": {
        "id": "lJCuExXiw-P0"
      },
      "execution_count": null,
      "outputs": []
    },
    {
      "cell_type": "code",
      "source": [
        "_, ax = plt.subplots(figsize=(8, 4))\n",
        "\n",
        "pred_mean = income_lin_test_pp.predictions[\"log_income\"].mean(dim=[\"draw\", \"chain\"])\n",
        "ax.scatter(X_income_test[0:350,2],pred_mean[0:350], label = 'Predictions')\n",
        "ax.scatter(X_income_test[0:350,2], median_income_test_log[0:350], label = 'Test Set')\n",
        "ax.vlines(\n",
        "    X_income_test[0:350,2],\n",
        "    *az.hdi(income_lin_test_pp.predictions)[\"log_income\"][0:350].transpose(\"hdi\", ...),\n",
        "    alpha=0.3,\n",
        ")\n",
        "ax.set_ylabel('Log of Median Income')\n",
        "ax.set_xlabel('Z-scaled Unemployment Rate')\n",
        "ax.set_title('Full Model Predictions and Test Set Values')\n",
        "ax.legend(loc='upper right')"
      ],
      "metadata": {
        "id": "ZeD0wQlLw-ia"
      },
      "execution_count": null,
      "outputs": []
    },
    {
      "cell_type": "code",
      "execution_count": null,
      "metadata": {
        "id": "QNTe0fjAZnkn"
      },
      "outputs": [],
      "source": [
        "from sklearn.metrics import mean_squared_error\n",
        "pred = income_lin_test_pp.predictions[\"log_income\"].mean(dim =['chain','draw'])\n",
        "mse = mean_squared_error(pred, median_income_test_log)\n",
        "print(\"Mean Square Error: %0.2f\" % (mse))"
      ]
    },
    {
      "cell_type": "markdown",
      "metadata": {
        "id": "DheOO2DDFoQw"
      },
      "source": [
        "##Reduced Model\n",
        "\n",
        "\n",
        "**Dropped Population, Air Quality, Water Quality, Diversity Rank (Gender), and State Dummy Variables**\n"
      ]
    },
    {
      "cell_type": "code",
      "execution_count": null,
      "metadata": {
        "id": "NI31QxE_CkUY"
      },
      "outputs": [],
      "source": [
        "df_reduced = df[['countyhelper', 'ULOCALE', '2016 Crime Rate', 'Unemployment',\n",
        "       '2020PopulrVoteParty', '2022 Median Income', '2020 PopulrMajor%',\n",
        "        'Cost of Living', 'Stu:Tea Rank', 'Diversity Rank (Race)']]\n",
        "\n",
        "df_reduced = pd.get_dummies(df_reduced, drop_first = False,\n",
        "                              columns = ['ULOCALE'], dtype = float)\n",
        "\n",
        "df_reduced['2020PopulrVoteParty'] = pd.Categorical(df_reduced['2020PopulrVoteParty']).codes\n",
        "\n",
        "df_reduced = df_reduced.set_index('countyhelper')\n",
        "\n",
        "df_reduced.dtypes"
      ]
    },
    {
      "cell_type": "code",
      "execution_count": null,
      "metadata": {
        "id": "uxO3rXiYJG0O"
      },
      "outputs": [],
      "source": [
        "from sklearn.model_selection import train_test_split\n",
        "train_r, test_r = train_test_split(df_reduced, random_state=2023, test_size=0.2)\n",
        "train_r"
      ]
    },
    {
      "cell_type": "code",
      "execution_count": null,
      "metadata": {
        "id": "p3i8MuZZJG0T"
      },
      "outputs": [],
      "source": [
        "median_income_train_log_r = np.log(train_r['2022 Median Income'])\n",
        "median_income_test_log_r = np.log(test_r['2022 Median Income'])\n",
        "train_r['Cost of Living Log'] = np.log(train_r['Cost of Living'])\n",
        "test_r['Cost of Living Log'] = np.log(test_r['Cost of Living'])"
      ]
    },
    {
      "cell_type": "code",
      "execution_count": null,
      "metadata": {
        "id": "d7M06AXpJG0V"
      },
      "outputs": [],
      "source": [
        "train_r.drop(['2022 Median Income', 'Cost of Living'], axis=1, inplace = True)\n",
        "test_r.drop(['2022 Median Income', 'Cost of Living'], axis=1, inplace = True)"
      ]
    },
    {
      "cell_type": "code",
      "execution_count": null,
      "metadata": {
        "id": "jwnYCjFYJG0W"
      },
      "outputs": [],
      "source": [
        "numeric_var = ['2016 Crime Rate', 'Unemployment', '2020 PopulrMajor%',\n",
        "               'Cost of Living Log','Stu:Tea Rank', 'Diversity Rank (Race)']\n",
        "scaler = StandardScaler()\n",
        "X_scaled_train_r = scaler.fit_transform(train_r[numeric_var])\n",
        "stats.describe(X_scaled_train_r)"
      ]
    },
    {
      "cell_type": "code",
      "execution_count": null,
      "metadata": {
        "id": "siz3mmmiJG0Z"
      },
      "outputs": [],
      "source": [
        "categorical_var = list(set(train_r.columns) - set(numeric_var))\n",
        "X_income_train_r = np.hstack((X_scaled_train_r, train_r[categorical_var].to_numpy()))"
      ]
    },
    {
      "cell_type": "code",
      "execution_count": null,
      "metadata": {
        "id": "myKhD1WCJG0a"
      },
      "outputs": [],
      "source": [
        "X_income_train_r.shape"
      ]
    },
    {
      "cell_type": "markdown",
      "metadata": {
        "id": "4A_HmYkCJG0b"
      },
      "source": [
        "## Test"
      ]
    },
    {
      "cell_type": "code",
      "execution_count": null,
      "metadata": {
        "id": "_eLZGqwTJG0b"
      },
      "outputs": [],
      "source": [
        "numeric_var = ['2016 Crime Rate', 'Unemployment',\n",
        "       '2020 PopulrMajor%','Cost of Living Log', 'Stu:Tea Rank', 'Diversity Rank (Race)']\n",
        "scaler = StandardScaler()\n",
        "X_scaled_test_r = scaler.fit_transform(test_r[numeric_var])\n",
        "stats.describe(X_scaled_test_r)"
      ]
    },
    {
      "cell_type": "code",
      "execution_count": null,
      "metadata": {
        "id": "g1xR9f8WJG0d"
      },
      "outputs": [],
      "source": [
        "categorical_var = list(set(test_r.columns) - set(numeric_var ))\n",
        "X_income_test_r = np.hstack((X_scaled_test_r, test_r[categorical_var].to_numpy()))"
      ]
    },
    {
      "cell_type": "code",
      "execution_count": null,
      "metadata": {
        "id": "RQoyFVN3JG0d"
      },
      "outputs": [],
      "source": [
        "X_income_test_r.shape"
      ]
    },
    {
      "cell_type": "code",
      "execution_count": null,
      "metadata": {
        "id": "Z8yFUD8rH_yA"
      },
      "outputs": [],
      "source": [
        "median_income_reduced_mean = median_income_train_log_r.mean()\n",
        "k = X_income_train_r.shape[1]\n",
        "\n",
        "with pm.Model() as income_lin_model_reduced:\n",
        "\n",
        "    #Data\n",
        "    X = pm.MutableData(\"X\", X_income_train_r) # training data\n",
        "    y = pm.MutableData(\"y\", median_income_train_log_r)\n",
        "\n",
        "    #Regression model parameters\n",
        "    α = pm.Normal('α', mu = median_income_reduced_mean, sigma = 17000) # uninformed prior\n",
        "    β = pm.MvNormal('β', mu=np.zeros(k), cov= np.eye(k), shape=k, dims ='Predictors') # informed priors\n",
        "\n",
        "    #Likelihood parameters\n",
        "    nu = pm.Exponential('nu', 1/29.0)+ 1 # uninformed prior\n",
        "    σ = pm.HalfStudentT('σ',2,8)\n",
        "    μ = α + pm.math.dot(X,β)\n",
        "    log_reduced = pm.StudentT('log_income', nu=nu, mu=μ, sigma=σ, observed=y)\n",
        "\n",
        "g1 = pm.model_to_graphviz(income_lin_model_reduced)\n",
        "g1"
      ]
    },
    {
      "cell_type": "code",
      "execution_count": null,
      "metadata": {
        "id": "i3tYJQuyIgF3"
      },
      "outputs": [],
      "source": [
        "with income_lin_model_reduced:\n",
        "    trace_reduced = pm.sample(random_seed = random_seed, return_inferencedata=False)\n",
        "    income_lin_trace_reduced = pm.to_inference_data(trace=trace_reduced, log_likelihood = True)"
      ]
    },
    {
      "cell_type": "code",
      "execution_count": null,
      "metadata": {
        "id": "qMxgtSyYIxDY"
      },
      "outputs": [],
      "source": [
        "az.plot_trace(income_lin_trace_reduced, kind = 'rank_bars')"
      ]
    },
    {
      "cell_type": "code",
      "execution_count": null,
      "metadata": {
        "id": "TEKSNjgIIlOY"
      },
      "outputs": [],
      "source": [
        "az.summary(income_lin_trace_reduced)"
      ]
    },
    {
      "cell_type": "code",
      "source": [
        "az.plot_posterior(income_lin_trace_reduced, ref_val = 0, color=\"Orange\")"
      ],
      "metadata": {
        "id": "f2fysTFVwZUQ"
      },
      "execution_count": null,
      "outputs": []
    },
    {
      "cell_type": "code",
      "execution_count": null,
      "metadata": {
        "id": "lSuOPO7rI2hE"
      },
      "outputs": [],
      "source": [
        "az.plot_forest(income_lin_trace_reduced, var_names = ['β'] )"
      ]
    },
    {
      "cell_type": "code",
      "execution_count": null,
      "metadata": {
        "id": "nIlXQ7xXI95J"
      },
      "outputs": [],
      "source": [
        "income_pp_reduced = pm.sample_posterior_predictive(income_lin_trace_reduced,\n",
        "                                          model = income_lin_model_reduced, random_seed = random_seed)"
      ]
    },
    {
      "cell_type": "code",
      "execution_count": null,
      "metadata": {
        "id": "mdp0eVgSJCnT"
      },
      "outputs": [],
      "source": [
        "az.plot_bpv(income_pp_reduced)"
      ]
    },
    {
      "cell_type": "code",
      "source": [
        "az.plot_ppc(income_pp_reduced)"
      ],
      "metadata": {
        "id": "kEwQdhBszlFU"
      },
      "execution_count": null,
      "outputs": []
    },
    {
      "cell_type": "code",
      "execution_count": null,
      "metadata": {
        "id": "OBpfGshcWvxc"
      },
      "outputs": [],
      "source": [
        "with income_lin_model_reduced:\n",
        "  pm.set_data({'X':X_income_test_r, 'y': median_income_test_log_r})\n",
        "  reduced_model_test_pp = pm.sample_posterior_predictive(\n",
        "      income_lin_trace_reduced,\n",
        "      var_names = ['log_income'],\n",
        "      return_inferencedata=True,\n",
        "      predictions=True,\n",
        "      extend_inferencedata=True,\n",
        "      random_seed=random_seed\n",
        "  )"
      ]
    },
    {
      "cell_type": "code",
      "execution_count": null,
      "metadata": {
        "id": "gGRCU2jaW_A0"
      },
      "outputs": [],
      "source": [
        "reduced_model_test_pp"
      ]
    },
    {
      "cell_type": "code",
      "execution_count": null,
      "metadata": {
        "id": "oMU5igl_YGd9"
      },
      "outputs": [],
      "source": [
        "from sklearn.metrics import mean_squared_error\n",
        "pred = reduced_model_test_pp.predictions[\"log_income\"].mean(dim =['chain','draw'])\n",
        "mse = mean_squared_error(pred, median_income_test_log_r)\n",
        "print(\"Mean Square Error: %0.2f\" % (mse))"
      ]
    },
    {
      "cell_type": "code",
      "source": [
        "_, ax = plt.subplots(figsize=(8, 4))\n",
        "\n",
        "pred_mean = reduced_model_test_pp.predictions[\"log_income\"].mean(dim=[\"draw\", \"chain\"])\n",
        "ax.scatter(X_income_test_r[0:300,3],pred_mean[0:300], label = 'Predictions')\n",
        "ax.scatter(X_income_test_r[0:300,3], median_income_test_log_r[0:300], label = 'Test Set')\n",
        "ax.vlines(\n",
        "    X_income_test_r[0:300,3],\n",
        "    *az.hdi(reduced_model_test_pp.predictions)[\"log_income\"][0:300].transpose(\"hdi\", ...),\n",
        "    alpha=0.3,\n",
        ")\n",
        "ax.set_ylabel('Log of Median Income')\n",
        "ax.set_xlabel('Z-scaled Log of Cost of Living')\n",
        "ax.set_title('Reduced Model Predictions and Test Set Values')\n",
        "ax.legend(loc='upper right')"
      ],
      "metadata": {
        "id": "8XUbRkpJaa9u"
      },
      "execution_count": null,
      "outputs": []
    },
    {
      "cell_type": "code",
      "source": [
        "_, ax = plt.subplots(figsize=(8, 4))\n",
        "\n",
        "pred_mean = reduced_model_test_pp.predictions[\"log_income\"].mean(dim=[\"draw\", \"chain\"])\n",
        "ax.scatter(X_income_test_r[0:350,1],pred_mean[0:350], label = 'Predictions')\n",
        "ax.scatter(X_income_test_r[0:350,1], median_income_test_log_r[0:350], label = 'Test Set')\n",
        "ax.vlines(\n",
        "    X_income_test_r[0:350,1],\n",
        "    *az.hdi(reduced_model_test_pp.predictions)[\"log_income\"][0:350].transpose(\"hdi\", ...),\n",
        "    alpha=0.3,\n",
        ")\n",
        "ax.set_ylabel('Log of Median Income')\n",
        "ax.set_xlabel('Z-scaled Unemployment Rate')\n",
        "ax.set_title('Reduced Model Predictions and Test Set Values')\n",
        "ax.legend(loc='upper right')"
      ],
      "metadata": {
        "id": "kHZW4knhdbdH"
      },
      "execution_count": null,
      "outputs": []
    },
    {
      "cell_type": "markdown",
      "metadata": {
        "id": "yDfeJs9a6qnV"
      },
      "source": [
        "## Reduced Non-Linear Model\n",
        "\n",
        "**Dropped Population, Airquality, Diversity Rank (Gender), and State Dummy Variables**\n",
        "\n",
        "**Transformed Water Quality (Inverse) and Unemployment (Inverse)**\n"
      ]
    },
    {
      "cell_type": "code",
      "execution_count": null,
      "metadata": {
        "id": "VhqUFdiE7hlI"
      },
      "outputs": [],
      "source": [
        "nl_df = df[['countyhelper', 'ULOCALE', '2016 Crime Rate', 'Unemployment',\n",
        "       '2020PopulrVoteParty', 'WaterQualityVPV', '2022 Median Income', '2020 PopulrMajor%',\n",
        "        'Cost of Living', 'Stu:Tea Rank',\n",
        "       'Diversity Rank (Race)']]\n",
        "\n",
        "nl_df = pd.get_dummies(nl_df, drop_first = False,\n",
        "                              columns = ['ULOCALE'], dtype = float)\n",
        "\n",
        "nl_df['2020PopulrVoteParty'] = pd.Categorical(nl_df['2020PopulrVoteParty']).codes\n",
        "\n",
        "nl_df = nl_df.set_index('countyhelper')\n",
        "\n",
        "nl_df.dtypes"
      ]
    },
    {
      "cell_type": "code",
      "execution_count": null,
      "metadata": {
        "id": "c2xrMLNvGGk-"
      },
      "outputs": [],
      "source": [
        "nl_df['Cost of Living Log'] = np.log(nl_df['Cost of Living'])\n",
        "nl_df['WaterQualityVPV_inv'] = ((1/(nl_df['WaterQualityVPV']+.01)))\n",
        "nl_df['Unemployment_inv'] = ((1/(nl_df['Unemployment']+.01)))\n",
        "nl_df.drop(['Cost of Living', 'Unemployment', 'WaterQualityVPV'], axis=1, inplace = True)"
      ]
    },
    {
      "cell_type": "code",
      "execution_count": null,
      "metadata": {
        "id": "9WyBcyfeFdmy"
      },
      "outputs": [],
      "source": [
        "train_nl, test_nl = train_test_split(nl_df, test_size=0.2, random_state=2023)\n",
        "median_income_train_log_nl = np.log(train_nl['2022 Median Income'])\n",
        "median_income_test_log_nl = np.log(test_nl['2022 Median Income'])\n",
        "train_nl.drop(['2022 Median Income'], axis=1, inplace = True)\n",
        "test_nl.drop(['2022 Median Income'], axis=1, inplace = True)"
      ]
    },
    {
      "cell_type": "code",
      "execution_count": null,
      "metadata": {
        "id": "mdsIF1WrIRaz"
      },
      "outputs": [],
      "source": [
        "numeric_var = ['2016 Crime Rate', 'Unemployment_inv', '2020 PopulrMajor%',\n",
        "       'WaterQualityVPV_inv', 'Cost of Living Log',\n",
        "       'Stu:Tea Rank', 'Diversity Rank (Race)']\n",
        "scaler = StandardScaler()\n",
        "X_scaled_train_nl = scaler.fit_transform(train_nl[numeric_var])\n",
        "stats.describe(X_scaled_train_nl)"
      ]
    },
    {
      "cell_type": "code",
      "execution_count": null,
      "metadata": {
        "id": "jlE-4RiGIfCZ"
      },
      "outputs": [],
      "source": [
        "categorical_var = list(set(train_nl.columns) - set(numeric_var ))\n",
        "X_income_train_nl = np.hstack((X_scaled_train_nl, train_nl[categorical_var].to_numpy()))"
      ]
    },
    {
      "cell_type": "code",
      "execution_count": null,
      "metadata": {
        "id": "mz1BSUa-KAIo"
      },
      "outputs": [],
      "source": [
        "X_income_train_nl.shape"
      ]
    },
    {
      "cell_type": "code",
      "execution_count": null,
      "metadata": {
        "id": "o6iwiu3qK19p"
      },
      "outputs": [],
      "source": [
        "numeric_var = ['2016 Crime Rate', 'Unemployment_inv', '2020 PopulrMajor%',\n",
        "       'WaterQualityVPV_inv', 'Cost of Living Log',\n",
        "       'Stu:Tea Rank', 'Diversity Rank (Race)']\n",
        "scaler = StandardScaler()\n",
        "X_scaled_test_nl = scaler.fit_transform(test_nl[numeric_var])\n",
        "stats.describe(X_scaled_test_nl)"
      ]
    },
    {
      "cell_type": "code",
      "execution_count": null,
      "metadata": {
        "id": "PdeC4MI_K19t"
      },
      "outputs": [],
      "source": [
        "categorical_var = list(set(test_nl.columns) - set(numeric_var ))\n",
        "X_income_test_nl = np.hstack((X_scaled_test_nl, test_nl[categorical_var].to_numpy()))"
      ]
    },
    {
      "cell_type": "code",
      "execution_count": null,
      "metadata": {
        "id": "k6WahanGK19u"
      },
      "outputs": [],
      "source": [
        "X_income_test_nl.shape"
      ]
    },
    {
      "cell_type": "code",
      "execution_count": null,
      "metadata": {
        "id": "OMxsDrT0LKkq"
      },
      "outputs": [],
      "source": [
        "median_income_reduced_mean = median_income_train_log_nl.mean()\n",
        "k = X_income_train_nl.shape[1]\n",
        "\n",
        "with pm.Model() as income_nl_model_reduced:\n",
        "\n",
        "    #Data\n",
        "    X = pm.MutableData(\"X\", X_income_train_nl) # training data\n",
        "    y = pm.MutableData(\"y\", median_income_train_log_nl)\n",
        "\n",
        "    #Regression model parameters\n",
        "    α = pm.Normal('α', mu = median_income_reduced_mean, sigma = 17000) # uninformed prior\n",
        "    β = pm.MvNormal('β', mu=np.zeros(k), cov= np.eye(k), shape=k, dims ='Predictors') # informed priors\n",
        "\n",
        "    #Likelihood parameters\n",
        "    nu = pm.Exponential('nu', 1/29.0)+ 1 # uninformed prior\n",
        "    σ = pm.HalfStudentT('σ',2,8)\n",
        "    μ = α + pm.math.dot(X,β)\n",
        "    log_reduced_nl = pm.StudentT('log_income', nu=nu, mu=μ, sigma=σ, observed=y)\n",
        "\n",
        "g1 = pm.model_to_graphviz(income_nl_model_reduced)\n",
        "g1"
      ]
    },
    {
      "cell_type": "code",
      "execution_count": null,
      "metadata": {
        "id": "1WnAFK9qLwts"
      },
      "outputs": [],
      "source": [
        "with income_nl_model_reduced:\n",
        "    trace_nl_reduced = pm.sample(random_seed = random_seed, return_inferencedata=False)\n",
        "    income_nl_trace_reduced = pm.to_inference_data(trace=trace_nl_reduced, log_likelihood = True)"
      ]
    },
    {
      "cell_type": "code",
      "execution_count": null,
      "metadata": {
        "id": "ewu6B9ATLwtv"
      },
      "outputs": [],
      "source": [
        "az.plot_trace(income_nl_trace_reduced , kind = 'rank_bars')"
      ]
    },
    {
      "cell_type": "code",
      "execution_count": null,
      "metadata": {
        "id": "HMQYcWcOLwtw"
      },
      "outputs": [],
      "source": [
        "az.summary(income_nl_trace_reduced)"
      ]
    },
    {
      "cell_type": "code",
      "execution_count": null,
      "metadata": {
        "id": "O4jRC6dpLwtx"
      },
      "outputs": [],
      "source": [
        "az.plot_forest(income_nl_trace_reduced, var_names = ['β'] )"
      ]
    },
    {
      "cell_type": "code",
      "source": [
        "az.plot_posterior(income_nl_trace_reduced, ref_val = 0, color=\"Purple\")"
      ],
      "metadata": {
        "id": "NYJJukCAaruF"
      },
      "execution_count": null,
      "outputs": []
    },
    {
      "cell_type": "code",
      "execution_count": null,
      "metadata": {
        "id": "paEnQdm7Lwty"
      },
      "outputs": [],
      "source": [
        "income_nl_pp_reduced = pm.sample_posterior_predictive(income_nl_trace_reduced,\n",
        "                                          model = income_nl_model_reduced, random_seed = random_seed)"
      ]
    },
    {
      "cell_type": "code",
      "execution_count": null,
      "metadata": {
        "id": "zyRTTx6FLwt0"
      },
      "outputs": [],
      "source": [
        "az.plot_bpv(income_nl_pp_reduced)"
      ]
    },
    {
      "cell_type": "code",
      "source": [
        "az.plot_ppc(income_nl_pp_reduced)"
      ],
      "metadata": {
        "id": "4tx1Yu5s0a9S"
      },
      "execution_count": null,
      "outputs": []
    },
    {
      "cell_type": "code",
      "source": [
        "income_nl_pp_reduced"
      ],
      "metadata": {
        "id": "aKq387dcGLEo"
      },
      "execution_count": null,
      "outputs": []
    },
    {
      "cell_type": "code",
      "execution_count": null,
      "metadata": {
        "id": "eYB25-XCLwt1"
      },
      "outputs": [],
      "source": [
        "with income_nl_model_reduced:\n",
        "  pm.set_data({'X':X_income_test_nl, 'y': median_income_test_log_nl})\n",
        "  reduced_model_test_pp_nl = pm.sample_posterior_predictive(\n",
        "      income_nl_trace_reduced,\n",
        "      var_names = ['log_income'],\n",
        "      return_inferencedata=True,\n",
        "      predictions=True,\n",
        "      extend_inferencedata=True,\n",
        "      random_seed=random_seed\n",
        "  )"
      ]
    },
    {
      "cell_type": "code",
      "source": [
        "X_income_test_nl"
      ],
      "metadata": {
        "id": "WszRjk_98dv2"
      },
      "execution_count": null,
      "outputs": []
    },
    {
      "cell_type": "code",
      "execution_count": null,
      "metadata": {
        "id": "C7hiXDBZLwt2"
      },
      "outputs": [],
      "source": [
        "reduced_model_test_pp_nl"
      ]
    },
    {
      "cell_type": "code",
      "source": [
        "_, ax = plt.subplots(figsize=(8, 4))\n",
        "\n",
        "pred_mean = reduced_model_test_pp_nl.predictions[\"log_income\"].mean(dim=[\"draw\", \"chain\"])\n",
        "ax.scatter(X_income_test_nl[0:300,4],pred_mean[0:300], label = 'Predictions')\n",
        "ax.scatter(X_income_test_nl[0:300,4], median_income_test_log_nl[0:300], label = 'Test Set')\n",
        "ax.vlines(\n",
        "    X_income_test_nl[0:300,4],\n",
        "    *az.hdi(reduced_model_test_pp_nl.predictions)[\"log_income\"][0:300].transpose(\"hdi\", ...),\n",
        "    alpha=0.3,\n",
        ")\n",
        "ax.set_ylabel('Log of Median Income')\n",
        "ax.set_xlabel('Z-scaled Log of Cost of Living')\n",
        "ax.set_title('Non-Linear Model Predictions and Test Set Values')\n",
        "ax.legend(loc='upper right')"
      ],
      "metadata": {
        "id": "pzkhg-NA1GXn"
      },
      "execution_count": null,
      "outputs": []
    },
    {
      "cell_type": "code",
      "source": [
        "_, ax = plt.subplots(figsize=(8, 4))\n",
        "\n",
        "pred_mean = reduced_model_test_pp_nl.predictions[\"log_income\"].mean(dim=[\"draw\", \"chain\"])\n",
        "ax.scatter(X_income_test_nl[0:350,1],pred_mean[0:350], label = 'Predictions')\n",
        "ax.scatter(X_income_test_nl[0:350,1], median_income_test_log_nl[0:350], label = 'Test Set')\n",
        "ax.vlines(\n",
        "    X_income_test_nl[0:350,1],\n",
        "    *az.hdi(reduced_model_test_pp_nl.predictions)[\"log_income\"][0:350].transpose(\"hdi\", ...),\n",
        "    alpha=0.3,\n",
        ")\n",
        "ax.set_ylabel('Log of Median Income')\n",
        "ax.set_xlabel('Z-scaled Inverse of Unemployment Rate')\n",
        "ax.set_title('Non-Linear Model Predictions and Test Set Values')\n",
        "ax.legend(loc='upper right')"
      ],
      "metadata": {
        "id": "M4nP_Ktf1HIC"
      },
      "execution_count": null,
      "outputs": []
    },
    {
      "cell_type": "code",
      "execution_count": null,
      "metadata": {
        "id": "ZCLQDhHmLwt4"
      },
      "outputs": [],
      "source": [
        "from sklearn.metrics import mean_squared_error\n",
        "pred = reduced_model_test_pp_nl.predictions[\"log_income\"].mean(dim =['chain','draw'])\n",
        "mse = mean_squared_error(pred, median_income_test_log_nl)\n",
        "print(\"Mean Square Error: %0.2f\" % (mse))"
      ]
    },
    {
      "cell_type": "markdown",
      "metadata": {
        "id": "Gu_Bp-WGHqGO"
      },
      "source": [
        "## Bayesian Model Averaging"
      ]
    },
    {
      "cell_type": "markdown",
      "metadata": {
        "id": "jXU_cZBhSBIR"
      },
      "source": [
        "##LOO Weights"
      ]
    },
    {
      "cell_type": "code",
      "execution_count": null,
      "metadata": {
        "id": "EZsd3hkuHtzz"
      },
      "outputs": [],
      "source": [
        "comp = az.compare({\"Standard\": income_lin_trace, \"Reduced\": income_lin_trace_reduced, 'Non-Linear': income_nl_trace_reduced}, ic=\"loo\")\n",
        "comp"
      ]
    },
    {
      "cell_type": "markdown",
      "source": [
        "##WAIC Weights"
      ],
      "metadata": {
        "id": "KBA9sf8lKsHt"
      }
    },
    {
      "cell_type": "code",
      "source": [
        "comp_waic = az.compare({\"Standard\": income_lin_trace, \"Reduced\": income_lin_trace_reduced, 'Non-Linear': income_nl_trace_reduced}, ic=\"waic\")\n",
        "comp_waic"
      ],
      "metadata": {
        "id": "_QkvM3DprSeW"
      },
      "execution_count": null,
      "outputs": []
    },
    {
      "cell_type": "markdown",
      "source": [
        "##Averaged Model Predictions Calculated Using LOO Weights"
      ],
      "metadata": {
        "id": "XAvPyWbPKvPC"
      }
    },
    {
      "cell_type": "code",
      "source": [
        "f = income_lin_test_pp.predictions[\"log_income\"].mean(dim=[\"draw\", \"chain\"])*(comp.weight.sort_index(ascending=True)[2])"
      ],
      "metadata": {
        "id": "vTxe-5mnoCrR"
      },
      "execution_count": null,
      "outputs": []
    },
    {
      "cell_type": "code",
      "source": [
        "r = reduced_model_test_pp.predictions[\"log_income\"].mean(dim=[\"draw\", \"chain\"])*(comp.weight.sort_index(ascending=True)[1])"
      ],
      "metadata": {
        "id": "7QXqMGPOoZZb"
      },
      "execution_count": null,
      "outputs": []
    },
    {
      "cell_type": "code",
      "source": [
        "nl = reduced_model_test_pp_nl.predictions[\"log_income\"].mean(dim=[\"draw\", \"chain\"])*(comp.weight.sort_index(ascending=True)[0])"
      ],
      "metadata": {
        "id": "mx3ZSesooZiH"
      },
      "execution_count": null,
      "outputs": []
    },
    {
      "cell_type": "code",
      "source": [
        "model_averaged_preds = f+r+nl"
      ],
      "metadata": {
        "id": "hoLrdcMJonTk"
      },
      "execution_count": null,
      "outputs": []
    },
    {
      "cell_type": "code",
      "source": [
        "_, ax = plt.subplots(figsize=(8, 4))\n",
        "\n",
        "ax.scatter(X_income_test_nl[0:300,4],model_averaged_preds[0:300], label = 'Predictions')\n",
        "ax.scatter(X_income_test_nl[0:300,4], median_income_test_log_nl[0:300], label = 'Test Set')\n",
        "\n",
        "ax.set_ylabel('Log of Median Income')\n",
        "ax.set_xlabel('Z-scaled Log of Cost of Living')\n",
        "ax.set_title('Averaged Model Predictions and Test Set Values')\n",
        "ax.legend(loc='upper right')"
      ],
      "metadata": {
        "id": "RBxvSFBu7RnR"
      },
      "execution_count": null,
      "outputs": []
    },
    {
      "cell_type": "markdown",
      "source": [
        "**Limitations: Averaged Model lacks uncertainty due to resources utilized in this study. Google Colab does not utilize the latest version of Arviz, which is necessary to be able to successfully make averaged model predictions using trace information. In addition, the model weights calculated here were determined using pseudo bayesian model averaging, which utilized information criteria to calculate its weights.**"
      ],
      "metadata": {
        "id": "kzYOoNAXqMYx"
      }
    },
    {
      "cell_type": "code",
      "source": [
        "from sklearn.metrics import mean_squared_error\n",
        "mse = mean_squared_error(model_averaged_preds, median_income_test_log_nl)\n",
        "print(\"Mean Square Error: %0.2f\" % (mse))"
      ],
      "metadata": {
        "id": "ECqCkOq0DQSZ"
      },
      "execution_count": null,
      "outputs": []
    },
    {
      "cell_type": "markdown",
      "source": [
        "**This model performed better than the full model, though the MSE is still significantly high. This is due to the large weight given to the full model in the overall averaging model.**"
      ],
      "metadata": {
        "id": "7aEX09pZq8ST"
      }
    }
  ],
  "metadata": {
    "colab": {
      "provenance": [],
      "gpuType": "T4"
    },
    "kernelspec": {
      "display_name": "Python 3",
      "name": "python3"
    },
    "language_info": {
      "codemirror_mode": {
        "name": "ipython",
        "version": 3
      },
      "file_extension": ".py",
      "mimetype": "text/x-python",
      "name": "python",
      "nbconvert_exporter": "python",
      "pygments_lexer": "ipython3",
      "version": "3.11.4"
    },
    "accelerator": "GPU"
  },
  "nbformat": 4,
  "nbformat_minor": 0
}